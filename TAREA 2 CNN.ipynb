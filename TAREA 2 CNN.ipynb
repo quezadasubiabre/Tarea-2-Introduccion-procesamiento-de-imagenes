{
 "cells": [
  {
   "cell_type": "markdown",
   "metadata": {},
   "source": [
    "## Imports"
   ]
  },
  {
   "cell_type": "code",
   "execution_count": 1,
   "metadata": {},
   "outputs": [],
   "source": [
    "import cv2\n",
    "import glob\n",
    "import numpy as np\n",
    "\n"
   ]
  },
  {
   "cell_type": "markdown",
   "metadata": {},
   "source": [
    "## Tamaño imagesnes base de datos"
   ]
  },
  {
   "cell_type": "code",
   "execution_count": 2,
   "metadata": {},
   "outputs": [
    {
     "name": "stdout",
     "output_type": "stream",
     "text": [
      "Ancho mininimo:  500\n",
      "Alto minimo:  500\n"
     ]
    }
   ],
   "source": [
    "width_min = 500\n",
    "height_min = 500\n",
    "for file in glob.glob(\"annotations/otras/*.png\"):\n",
    "    images = cv2.imread(file)\n",
    "    height = images.shape[0]\n",
    "    width = images.shape[1]\n",
    "   \n",
    "    if width < width_min:\n",
    "        width_min = width\n",
    "        if height < height_min:\n",
    "            height_min = height\n",
    "    \n",
    "    else:\n",
    "        if height < height_min:\n",
    "                height_min = height\n",
    "                \n",
    "print('Ancho mininimo: ', width_min)\n",
    "print('Alto minimo: ', height_min)\n",
    "                \n",
    "                \n",
    "    \n",
    "    \n"
   ]
  },
  {
   "cell_type": "code",
   "execution_count": 3,
   "metadata": {},
   "outputs": [
    {
     "name": "stdout",
     "output_type": "stream",
     "text": [
      "Ancho maximo:  0\n",
      "Alto maximo:  0\n"
     ]
    }
   ],
   "source": [
    "width_max = 0\n",
    "height_max = 0\n",
    "for file in glob.glob(\"annotations/otras/*.png\"):\n",
    "    images = cv2.imread(file)\n",
    "    height = images.shape[0]\n",
    "    width = images.shape[1]\n",
    "   \n",
    "    if width > width_max:\n",
    "        width_max = width\n",
    "        if height > height_min:\n",
    "            height_max = height\n",
    "    \n",
    "    else:\n",
    "        if height > height_max:\n",
    "                height_max = height\n",
    "                \n",
    "print('Ancho maximo: ', width_max)\n",
    "print('Alto maximo: ', height_max)\n",
    "                "
   ]
  },
  {
   "cell_type": "code",
   "execution_count": 22,
   "metadata": {},
   "outputs": [
    {
     "name": "stdout",
     "output_type": "stream",
     "text": [
      "Ancho maximo:  573\n",
      "Alto maximo:  767\n",
      "Ancho mininimo:  57\n",
      "Alto minimo:  69\n"
     ]
    }
   ],
   "source": [
    "# en todas las imagenes\n",
    "width_max = 0\n",
    "height_max = 0\n",
    "for file in glob.glob(\"annotations/*/*.png\"):\n",
    "    images = cv2.imread(file)\n",
    "    height = images.shape[0]\n",
    "    width = images.shape[1]\n",
    "   \n",
    "    if width > width_max:\n",
    "        width_max = width\n",
    "        if height > height_min:\n",
    "            height_max = height\n",
    "    \n",
    "    else:\n",
    "        if height > height_max:\n",
    "                height_max = height\n",
    "                \n",
    "print('Ancho maximo: ', width_max)\n",
    "print('Alto maximo: ', height_max)\n",
    "\n",
    "\n",
    "width_min = 1000\n",
    "height_min = 1000\n",
    "for file in glob.glob(\"annotations/*/*.png\"):\n",
    "    images = cv2.imread(file)\n",
    "    height = images.shape[0]\n",
    "    width = images.shape[1]\n",
    "   \n",
    "    if width < width_min:\n",
    "        width_min = width\n",
    "        if height < height_min:\n",
    "            height_min = height\n",
    "    \n",
    "    else:\n",
    "        if height < height_min:\n",
    "                height_min = height\n",
    "                \n",
    "print('Ancho mininimo: ', width_min)\n",
    "print('Alto minimo: ', height_min)\n",
    "\n",
    "\n"
   ]
  },
  {
   "cell_type": "markdown",
   "metadata": {},
   "source": [
    "## Modificar tamaño\n",
    "\n",
    "A continuación se modifica el tamaño de las imágenes estableciendo 100 * 100 pixeles "
   ]
  },
  {
   "cell_type": "code",
   "execution_count": 11,
   "metadata": {},
   "outputs": [],
   "source": [
    "\"\"\"\n",
    "for file in glob.glob(\"annotations/*/*.png\"):\n",
    "    images = cv2.imread(file)\n",
    "    dim = (100,100) # dimension imagen\n",
    "    resized = cv2.resize(images, dim, interpolation = cv2.INTER_AREA)\n",
    "    path = 'C:/Users/queza/Desktop/EL7007_Tarea2/data/' + file[12:]\n",
    "    cv2.imwrite(path,resized)\n",
    "    \n",
    "\"\"\"   "
   ]
  },
  {
   "cell_type": "markdown",
   "metadata": {},
   "source": [
    "# Red neuronal \n",
    "### 1. Preparación datos"
   ]
  },
  {
   "cell_type": "code",
   "execution_count": 49,
   "metadata": {},
   "outputs": [
    {
     "name": "stdout",
     "output_type": "stream",
     "text": [
      "La cantidad de imagenes es:  238\n"
     ]
    }
   ],
   "source": [
    "# contar cantidad de imagenes\n",
    "\n",
    "path_imgs = glob.glob('C:/Users/queza/Desktop/EL7007_Tarea2/data/*/*.png')\n",
    "print('La cantidad de imagenes es: ', len(path_imgs))\n",
    "\n"
   ]
  },
  {
   "cell_type": "code",
   "execution_count": 56,
   "metadata": {},
   "outputs": [],
   "source": [
    "# lista de listas para guardar datos \n",
    "\n",
    "n = 238\n",
    "m = 2 #[X,y]\n",
    "datos = [[0] * m for i in range(n)]\n",
    "\n",
    "# one hot enconder\n",
    "i = -1\n",
    "for files in glob.glob('C:/Users/queza/Desktop/EL7007_Tarea2/data/*/*.png'):\n",
    "    i = i + 1\n",
    "    X = cv2.imread(files)    \n",
    "    num = files[42:44]\n",
    "    datos[i][0] = X\n",
    "    if num == '01':\n",
    "        datos[i][1] = np.array([1,0,0,0,0,0,0,0,0,0])\n",
    "    elif num == '02':\n",
    "        datos[i][1] = np.array([0,1,0,0,0,0,0,0,0,0])\n",
    "    elif num == '03':\n",
    "        datos[i][1] = np.array([0,0,1,0,0,0,0,0,0,0])\n",
    "    elif num == '04':\n",
    "        datos[i][1] = np.array([0,0,0,1,0,0,0,0,0,0])\n",
    "    elif num == '05':\n",
    "        datos[i][1] = np.array([0,0,0,0,1,0,0,0,0,0])\n",
    "    elif num == '06':\n",
    "        datos[i][1] = np.array([0,0,0,0,0,1,0,0,0,0])\n",
    "    elif num == '07':\n",
    "        datos[i][1] = np.array([0,0,0,0,0,0,1,0,0,0])\n",
    "    elif num == '08':\n",
    "        datos[i][1] = np.array([0,0,0,0,0,0,0,1,0,0])\n",
    "    elif num == '09':\n",
    "        datos[i][1] = np.array([0,0,0,0,0,0,0,0,1,0])\n",
    "    elif num == '10':\n",
    "        datos[i][1] = np.array([0,0,0,0,0,0,0,0,0,1])\n",
    "    \n",
    "    \n",
    "    \n",
    "        \n",
    "    \n",
    "    "
   ]
  },
  {
   "cell_type": "code",
   "execution_count": 58,
   "metadata": {},
   "outputs": [
    {
     "data": {
      "text/plain": [
       "(100, 100, 3)"
      ]
     },
     "execution_count": 58,
     "metadata": {},
     "output_type": "execute_result"
    }
   ],
   "source": []
  },
  {
   "cell_type": "code",
   "execution_count": null,
   "metadata": {},
   "outputs": [],
   "source": []
  }
 ],
 "metadata": {
  "kernelspec": {
   "display_name": "Python 3",
   "language": "python",
   "name": "python3"
  },
  "language_info": {
   "codemirror_mode": {
    "name": "ipython",
    "version": 3
   },
   "file_extension": ".py",
   "mimetype": "text/x-python",
   "name": "python",
   "nbconvert_exporter": "python",
   "pygments_lexer": "ipython3",
   "version": "3.5.5"
  }
 },
 "nbformat": 4,
 "nbformat_minor": 2
}
